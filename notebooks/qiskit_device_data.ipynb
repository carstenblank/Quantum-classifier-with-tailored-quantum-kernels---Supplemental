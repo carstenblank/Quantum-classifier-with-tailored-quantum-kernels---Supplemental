{
 "cells": [
  {
   "cell_type": "markdown",
   "metadata": {},
   "source": [
    "Copyright 2019 Carsten Blank\n",
    "\n",
    "Licensed under the Apache License, Version 2.0 (the \"License\");\n",
    "you may not use this file except in compliance with the License.\n",
    "You may obtain a copy of the License at\n",
    "\n",
    "    http://www.apache.org/licenses/LICENSE-2.0\n",
    "\n",
    "Unless required by applicable law or agreed to in writing, software\n",
    "distributed under the License is distributed on an \"AS IS\" BASIS,\n",
    "WITHOUT WARRANTIES OR CONDITIONS OF ANY KIND, either express or implied.\n",
    "See the License for the specific language governing permissions and\n",
    "limitations under the License."
   ]
  },
  {
   "cell_type": "code",
   "execution_count": 1,
   "metadata": {
    "collapsed": true,
    "jupyter": {
     "outputs_hidden": true
    },
    "pycharm": {
     "is_executing": false
    }
   },
   "outputs": [],
   "source": [
    "import sys\n",
    "import os\n",
    "sys.path.append(\"{}/../lib_paper\".format(os.getcwd()))\n",
    "import lib_experimental_utils"
   ]
  },
  {
   "cell_type": "code",
   "execution_count": 2,
   "metadata": {
    "collapsed": false,
    "jupyter": {
     "outputs_hidden": false
    },
    "pycharm": {
     "is_executing": false,
     "name": "#%%\n"
    }
   },
   "outputs": [
    {
     "data": {
      "text/plain": [
       "BackendProperties(backend_name='ibmqx2', backend_version='2.0.0', gates=[Gate(gate='id', name='id_0', parameters=[Nduv(date=datetime.datetime(2019, 10, 17, 13, 16, 1, tzinfo=tzutc()), name='gate_error', unit='', value=0.0005113277713932092), Nduv(date=datetime.datetime(2019, 10, 17, 14, 30, 21, tzinfo=tzutc()), name='gate_length', unit='ns', value=35.55555555555556)], qubits=[0]), Gate(gate='u1', name='u1_0', parameters=[Nduv(date=datetime.datetime(2019, 10, 17, 13, 16, 1, tzinfo=tzutc()), name='gate_error', unit='', value=0.0), Nduv(date=datetime.datetime(2019, 10, 17, 14, 30, 21, tzinfo=tzutc()), name='gate_length', unit='ns', value=0.0)], qubits=[0]), Gate(gate='u2', name='u2_0', parameters=[Nduv(date=datetime.datetime(2019, 10, 17, 13, 16, 1, tzinfo=tzutc()), name='gate_error', unit='', value=0.0005113277713932092), Nduv(date=datetime.datetime(2019, 10, 17, 14, 30, 21, tzinfo=tzutc()), name='gate_length', unit='ns', value=35.55555555555556)], qubits=[0]), Gate(gate='u3', name='u3_0', parameters=[Nduv(date=datetime.datetime(2019, 10, 17, 13, 16, 1, tzinfo=tzutc()), name='gate_error', unit='', value=0.0010226555427864184), Nduv(date=datetime.datetime(2019, 10, 17, 14, 30, 21, tzinfo=tzutc()), name='gate_length', unit='ns', value=71.11111111111111)], qubits=[0]), Gate(gate='id', name='id_1', parameters=[Nduv(date=datetime.datetime(2019, 10, 17, 13, 26, 30, tzinfo=tzutc()), name='gate_error', unit='', value=0.0003823113757258139), Nduv(date=datetime.datetime(2019, 10, 17, 14, 30, 21, tzinfo=tzutc()), name='gate_length', unit='ns', value=35.55555555555556)], qubits=[1]), Gate(gate='u1', name='u1_1', parameters=[Nduv(date=datetime.datetime(2019, 10, 17, 13, 26, 30, tzinfo=tzutc()), name='gate_error', unit='', value=0.0), Nduv(date=datetime.datetime(2019, 10, 17, 14, 30, 21, tzinfo=tzutc()), name='gate_length', unit='ns', value=0.0)], qubits=[1]), Gate(gate='u2', name='u2_1', parameters=[Nduv(date=datetime.datetime(2019, 10, 17, 13, 26, 30, tzinfo=tzutc()), name='gate_error', unit='', value=0.0003823113757258139), Nduv(date=datetime.datetime(2019, 10, 17, 14, 30, 21, tzinfo=tzutc()), name='gate_length', unit='ns', value=35.55555555555556)], qubits=[1]), Gate(gate='u3', name='u3_1', parameters=[Nduv(date=datetime.datetime(2019, 10, 17, 13, 26, 30, tzinfo=tzutc()), name='gate_error', unit='', value=0.0007646227514516278), Nduv(date=datetime.datetime(2019, 10, 17, 14, 30, 21, tzinfo=tzutc()), name='gate_length', unit='ns', value=71.11111111111111)], qubits=[1]), Gate(gate='id', name='id_2', parameters=[Nduv(date=datetime.datetime(2019, 10, 17, 13, 36, 59, tzinfo=tzutc()), name='gate_error', unit='', value=0.0003865255466897715), Nduv(date=datetime.datetime(2019, 10, 17, 14, 30, 21, tzinfo=tzutc()), name='gate_length', unit='ns', value=35.55555555555556)], qubits=[2]), Gate(gate='u1', name='u1_2', parameters=[Nduv(date=datetime.datetime(2019, 10, 17, 13, 36, 59, tzinfo=tzutc()), name='gate_error', unit='', value=0.0), Nduv(date=datetime.datetime(2019, 10, 17, 14, 30, 21, tzinfo=tzutc()), name='gate_length', unit='ns', value=0.0)], qubits=[2]), Gate(gate='u2', name='u2_2', parameters=[Nduv(date=datetime.datetime(2019, 10, 17, 13, 36, 59, tzinfo=tzutc()), name='gate_error', unit='', value=0.0003865255466897715), Nduv(date=datetime.datetime(2019, 10, 17, 14, 30, 21, tzinfo=tzutc()), name='gate_length', unit='ns', value=35.55555555555556)], qubits=[2]), Gate(gate='u3', name='u3_2', parameters=[Nduv(date=datetime.datetime(2019, 10, 17, 13, 36, 59, tzinfo=tzutc()), name='gate_error', unit='', value=0.000773051093379543), Nduv(date=datetime.datetime(2019, 10, 17, 14, 30, 21, tzinfo=tzutc()), name='gate_length', unit='ns', value=71.11111111111111)], qubits=[2]), Gate(gate='id', name='id_3', parameters=[Nduv(date=datetime.datetime(2019, 10, 17, 13, 47, 28, tzinfo=tzutc()), name='gate_error', unit='', value=0.0005665077446776293), Nduv(date=datetime.datetime(2019, 10, 17, 14, 30, 21, tzinfo=tzutc()), name='gate_length', unit='ns', value=35.55555555555556)], qubits=[3]), Gate(gate='u1', name='u1_3', parameters=[Nduv(date=datetime.datetime(2019, 10, 17, 13, 47, 28, tzinfo=tzutc()), name='gate_error', unit='', value=0.0), Nduv(date=datetime.datetime(2019, 10, 17, 14, 30, 21, tzinfo=tzutc()), name='gate_length', unit='ns', value=0.0)], qubits=[3]), Gate(gate='u2', name='u2_3', parameters=[Nduv(date=datetime.datetime(2019, 10, 17, 13, 47, 28, tzinfo=tzutc()), name='gate_error', unit='', value=0.0005665077446776293), Nduv(date=datetime.datetime(2019, 10, 17, 14, 30, 21, tzinfo=tzutc()), name='gate_length', unit='ns', value=35.55555555555556)], qubits=[3]), Gate(gate='u3', name='u3_3', parameters=[Nduv(date=datetime.datetime(2019, 10, 17, 13, 47, 28, tzinfo=tzutc()), name='gate_error', unit='', value=0.0011330154893552586), Nduv(date=datetime.datetime(2019, 10, 17, 14, 30, 21, tzinfo=tzutc()), name='gate_length', unit='ns', value=71.11111111111111)], qubits=[3]), Gate(gate='id', name='id_4', parameters=[Nduv(date=datetime.datetime(2019, 10, 17, 13, 57, 57, tzinfo=tzutc()), name='gate_error', unit='', value=0.00042180014988832756), Nduv(date=datetime.datetime(2019, 10, 17, 14, 30, 21, tzinfo=tzutc()), name='gate_length', unit='ns', value=35.55555555555556)], qubits=[4]), Gate(gate='u1', name='u1_4', parameters=[Nduv(date=datetime.datetime(2019, 10, 17, 13, 57, 57, tzinfo=tzutc()), name='gate_error', unit='', value=0.0), Nduv(date=datetime.datetime(2019, 10, 17, 14, 30, 21, tzinfo=tzutc()), name='gate_length', unit='ns', value=0.0)], qubits=[4]), Gate(gate='u2', name='u2_4', parameters=[Nduv(date=datetime.datetime(2019, 10, 17, 13, 57, 57, tzinfo=tzutc()), name='gate_error', unit='', value=0.00042180014988832756), Nduv(date=datetime.datetime(2019, 10, 17, 14, 30, 21, tzinfo=tzutc()), name='gate_length', unit='ns', value=35.55555555555556)], qubits=[4]), Gate(gate='u3', name='u3_4', parameters=[Nduv(date=datetime.datetime(2019, 10, 17, 13, 57, 57, tzinfo=tzutc()), name='gate_error', unit='', value=0.0008436002997766551), Nduv(date=datetime.datetime(2019, 10, 17, 14, 30, 21, tzinfo=tzutc()), name='gate_length', unit='ns', value=71.11111111111111)], qubits=[4]), Gate(gate='cx', name='cx0_1', parameters=[Nduv(date=datetime.datetime(2019, 10, 17, 14, 9, 9, tzinfo=tzutc()), name='gate_error', unit='', value=0.012134754315809154), Nduv(date=datetime.datetime(2019, 10, 17, 14, 30, 21, tzinfo=tzutc()), name='gate_length', unit='ns', value=362.66666666666663)], qubits=[0, 1]), Gate(gate='cx', name='cx0_2', parameters=[Nduv(date=datetime.datetime(2019, 10, 17, 14, 13, 16, tzinfo=tzutc()), name='gate_error', unit='', value=0.015493771354026936), Nduv(date=datetime.datetime(2019, 10, 17, 14, 30, 21, tzinfo=tzutc()), name='gate_length', unit='ns', value=490.66666666666663)], qubits=[0, 2]), Gate(gate='cx', name='cx1_0', parameters=[Nduv(date=datetime.datetime(2019, 10, 17, 14, 9, 9, tzinfo=tzutc()), name='gate_error', unit='', value=0.012134754315809154), Nduv(date=datetime.datetime(2019, 10, 17, 14, 30, 21, tzinfo=tzutc()), name='gate_length', unit='ns', value=362.66666666666663)], qubits=[1, 0]), Gate(gate='cx', name='cx1_2', parameters=[Nduv(date=datetime.datetime(2019, 10, 17, 14, 17, 24, tzinfo=tzutc()), name='gate_error', unit='', value=0.01651870268761005), Nduv(date=datetime.datetime(2019, 10, 17, 14, 30, 21, tzinfo=tzutc()), name='gate_length', unit='ns', value=512.0)], qubits=[1, 2]), Gate(gate='cx', name='cx2_0', parameters=[Nduv(date=datetime.datetime(2019, 10, 17, 14, 13, 16, tzinfo=tzutc()), name='gate_error', unit='', value=0.015493771354026936), Nduv(date=datetime.datetime(2019, 10, 17, 14, 30, 21, tzinfo=tzutc()), name='gate_length', unit='ns', value=490.66666666666663)], qubits=[2, 0]), Gate(gate='cx', name='cx2_1', parameters=[Nduv(date=datetime.datetime(2019, 10, 17, 14, 17, 24, tzinfo=tzutc()), name='gate_error', unit='', value=0.01651870268761005), Nduv(date=datetime.datetime(2019, 10, 17, 14, 30, 21, tzinfo=tzutc()), name='gate_length', unit='ns', value=512.0)], qubits=[2, 1]), Gate(gate='cx', name='cx2_3', parameters=[Nduv(date=datetime.datetime(2019, 10, 17, 14, 22, 29, tzinfo=tzutc()), name='gate_error', unit='', value=0.014708212278383731), Nduv(date=datetime.datetime(2019, 10, 17, 14, 30, 21, tzinfo=tzutc()), name='gate_length', unit='ns', value=391.1111111111111)], qubits=[2, 3]), Gate(gate='cx', name='cx2_4', parameters=[Nduv(date=datetime.datetime(2019, 10, 17, 14, 30, 21, tzinfo=tzutc()), name='gate_error', unit='', value=0.011749269417908548), Nduv(date=datetime.datetime(2019, 10, 17, 14, 30, 21, tzinfo=tzutc()), name='gate_length', unit='ns', value=312.88888888888886)], qubits=[2, 4]), Gate(gate='cx', name='cx3_2', parameters=[Nduv(date=datetime.datetime(2019, 10, 17, 14, 22, 29, tzinfo=tzutc()), name='gate_error', unit='', value=0.014708212278383731), Nduv(date=datetime.datetime(2019, 10, 17, 14, 30, 21, tzinfo=tzutc()), name='gate_length', unit='ns', value=391.1111111111111)], qubits=[3, 2]), Gate(gate='cx', name='cx3_4', parameters=[Nduv(date=datetime.datetime(2019, 10, 17, 14, 26, 26, tzinfo=tzutc()), name='gate_error', unit='', value=0.013825690789089129), Nduv(date=datetime.datetime(2019, 10, 17, 14, 30, 21, tzinfo=tzutc()), name='gate_length', unit='ns', value=405.3333333333333)], qubits=[3, 4]), Gate(gate='cx', name='cx4_2', parameters=[Nduv(date=datetime.datetime(2019, 10, 17, 14, 30, 21, tzinfo=tzutc()), name='gate_error', unit='', value=0.011749269417908548), Nduv(date=datetime.datetime(2019, 10, 17, 14, 30, 21, tzinfo=tzutc()), name='gate_length', unit='ns', value=312.88888888888886)], qubits=[4, 2]), Gate(gate='cx', name='cx4_3', parameters=[Nduv(date=datetime.datetime(2019, 10, 17, 14, 26, 26, tzinfo=tzutc()), name='gate_error', unit='', value=0.013825690789089129), Nduv(date=datetime.datetime(2019, 10, 17, 14, 30, 21, tzinfo=tzutc()), name='gate_length', unit='ns', value=405.3333333333333)], qubits=[4, 3])], general=[], last_update_date=datetime.datetime(2019, 10, 17, 14, 30, 21, tzinfo=tzutc()), qubits=[[Nduv(date=datetime.datetime(2019, 10, 17, 12, 53, 18, tzinfo=tzutc()), name='T1', unit='µs', value=58.90914788876976), Nduv(date=datetime.datetime(2019, 10, 17, 13, 2, 57, tzinfo=tzutc()), name='T2', unit='µs', value=37.70913302022866), Nduv(date=datetime.datetime(2019, 10, 17, 14, 30, 21, tzinfo=tzutc()), name='frequency', unit='GHz', value=5.286309407085792), Nduv(date=datetime.datetime(2019, 10, 17, 12, 43, 51, tzinfo=tzutc()), name='readout_error', unit='', value=0.01200000000000001), Nduv(date=datetime.datetime(2019, 10, 17, 12, 43, 51, tzinfo=tzutc()), name='prob_meas0_prep1', unit='', value=0.016000000000000014), Nduv(date=datetime.datetime(2019, 10, 17, 12, 43, 51, tzinfo=tzutc()), name='prob_meas1_prep0', unit='', value=0.008)], [Nduv(date=datetime.datetime(2019, 10, 17, 12, 53, 18, tzinfo=tzutc()), name='T1', unit='µs', value=54.88695946735971), Nduv(date=datetime.datetime(2019, 10, 17, 13, 14, 10, tzinfo=tzutc()), name='T2', unit='µs', value=39.92889284481864), Nduv(date=datetime.datetime(2019, 10, 17, 14, 30, 21, tzinfo=tzutc()), name='frequency', unit='GHz', value=5.2378616306369405), Nduv(date=datetime.datetime(2019, 10, 17, 12, 43, 51, tzinfo=tzutc()), name='readout_error', unit='', value=0.007500000000000062), Nduv(date=datetime.datetime(2019, 10, 17, 12, 43, 51, tzinfo=tzutc()), name='prob_meas0_prep1', unit='', value=0.013000000000000012), Nduv(date=datetime.datetime(2019, 10, 17, 12, 43, 51, tzinfo=tzutc()), name='prob_meas1_prep0', unit='', value=0.002)], [Nduv(date=datetime.datetime(2019, 10, 17, 12, 53, 18, tzinfo=tzutc()), name='T1', unit='µs', value=63.00506544000389), Nduv(date=datetime.datetime(2019, 10, 17, 13, 14, 57, tzinfo=tzutc()), name='T2', unit='µs', value=55.77878231942898), Nduv(date=datetime.datetime(2019, 10, 17, 14, 30, 21, tzinfo=tzutc()), name='frequency', unit='GHz', value=5.030275567355562), Nduv(date=datetime.datetime(2019, 10, 17, 12, 43, 51, tzinfo=tzutc()), name='readout_error', unit='', value=0.020499999999999963), Nduv(date=datetime.datetime(2019, 10, 17, 12, 43, 51, tzinfo=tzutc()), name='prob_meas0_prep1', unit='', value=0.030000000000000027), Nduv(date=datetime.datetime(2019, 10, 17, 12, 43, 51, tzinfo=tzutc()), name='prob_meas1_prep0', unit='', value=0.011)], [Nduv(date=datetime.datetime(2019, 10, 17, 12, 53, 18, tzinfo=tzutc()), name='T1', unit='µs', value=57.537564731275296), Nduv(date=datetime.datetime(2019, 10, 17, 13, 2, 57, tzinfo=tzutc()), name='T2', unit='µs', value=22.0143372061289), Nduv(date=datetime.datetime(2019, 10, 17, 14, 30, 21, tzinfo=tzutc()), name='frequency', unit='GHz', value=5.296034290876578), Nduv(date=datetime.datetime(2019, 10, 17, 12, 43, 51, tzinfo=tzutc()), name='readout_error', unit='', value=0.01100000000000001), Nduv(date=datetime.datetime(2019, 10, 17, 12, 43, 51, tzinfo=tzutc()), name='prob_meas0_prep1', unit='', value=0.01200000000000001), Nduv(date=datetime.datetime(2019, 10, 17, 12, 43, 51, tzinfo=tzutc()), name='prob_meas1_prep0', unit='', value=0.01)], [Nduv(date=datetime.datetime(2019, 10, 17, 12, 53, 18, tzinfo=tzutc()), name='T1', unit='µs', value=58.6476146492994), Nduv(date=datetime.datetime(2019, 10, 17, 13, 14, 10, tzinfo=tzutc()), name='T2', unit='µs', value=34.31798158482379), Nduv(date=datetime.datetime(2019, 10, 17, 14, 30, 21, tzinfo=tzutc()), name='frequency', unit='GHz', value=5.084714923877583), Nduv(date=datetime.datetime(2019, 10, 17, 12, 43, 51, tzinfo=tzutc()), name='readout_error', unit='', value=0.05600000000000005), Nduv(date=datetime.datetime(2019, 10, 17, 12, 43, 51, tzinfo=tzutc()), name='prob_meas0_prep1', unit='', value=0.08499999999999996), Nduv(date=datetime.datetime(2019, 10, 17, 12, 43, 51, tzinfo=tzutc()), name='prob_meas1_prep0', unit='', value=0.027)]])"
      ]
     },
     "execution_count": 2,
     "metadata": {},
     "output_type": "execute_result"
    }
   ],
   "source": [
    "lib_experimental_utils.ibmqx2().properties()"
   ]
  },
  {
   "cell_type": "code",
   "execution_count": null,
   "metadata": {
    "collapsed": false,
    "jupyter": {
     "outputs_hidden": false
    },
    "pycharm": {
     "name": "#%%\n"
    }
   },
   "outputs": [],
   "source": [
    "\n"
   ]
  }
 ],
 "metadata": {
  "kernelspec": {
   "display_name": "Python 3",
   "language": "python",
   "name": "python3"
  },
  "language_info": {
   "codemirror_mode": {
    "name": "ipython",
    "version": 3
   },
   "file_extension": ".py",
   "mimetype": "text/x-python",
   "name": "python",
   "nbconvert_exporter": "python",
   "pygments_lexer": "ipython3",
   "version": "3.6.8"
  },
  "pycharm": {
   "stem_cell": {
    "cell_type": "raw",
    "metadata": {
     "collapsed": false
    },
    "source": []
   }
  }
 },
 "nbformat": 4,
 "nbformat_minor": 4
}
