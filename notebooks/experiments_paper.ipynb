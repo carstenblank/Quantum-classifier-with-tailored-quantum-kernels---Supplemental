{
 "cells": [
  {
   "cell_type": "markdown",
   "metadata": {},
   "source": [
    "Copyright 2019 Carsten Blank\n",
    "\n",
    "Licensed under the Apache License, Version 2.0 (the \"License\");\n",
    "you may not use this file except in compliance with the License.\n",
    "You may obtain a copy of the License at\n",
    "\n",
    "    http://www.apache.org/licenses/LICENSE-2.0\n",
    "\n",
    "Unless required by applicable law or agreed to in writing, software\n",
    "distributed under the License is distributed on an \"AS IS\" BASIS,\n",
    "WITHOUT WARRANTIES OR CONDITIONS OF ANY KIND, either express or implied.\n",
    "See the License for the specific language governing permissions and\n",
    "limitations under the License."
   ]
  },
  {
   "cell_type": "code",
   "execution_count": 2,
   "metadata": {
    "pycharm": {
     "is_executing": false,
     "name": "#%%\n"
    }
   },
   "outputs": [],
   "source": [
    "%load_ext autoreload"
   ]
  },
  {
   "cell_type": "code",
   "execution_count": 3,
   "metadata": {
    "pycharm": {
     "is_executing": false,
     "name": "#%%\n"
    }
   },
   "outputs": [],
   "source": [
    "%autoreload 2\n",
    "%aimport lib_experimental_utils\n",
    "%aimport lib_experiment_setups"
   ]
  },
  {
   "cell_type": "code",
   "execution_count": 4,
   "metadata": {
    "pycharm": {
     "is_executing": false,
     "name": "#%%\n"
    }
   },
   "outputs": [],
   "source": [
    "import numpy as np\n",
    "import lib_experimental_utils as lib\n",
    "from lib_experimental_utils import FinishedExperiment, save\n",
    "import lib_experiment_setups as expset"
   ]
  },
  {
   "cell_type": "code",
   "execution_count": 64,
   "metadata": {
    "pycharm": {
     "is_executing": false,
     "name": "#%%\n"
    }
   },
   "outputs": [],
   "source": [
    "readout_swap = {}\n",
    "id1 = expset.create_regular_experiment_and_then_simulation(backend_enum=expset.BackendEnum.IBMQ_OURENSE, \n",
    "                                                           instead_general_weights_use_hadamard=False,\n",
    "                                                           use_barriers=False, readout_swap=readout_swap,\n",
    "                                                           no_experiment=True, dont_use_dask=False)"
   ]
  },
  {
   "cell_type": "code",
   "execution_count": 48,
   "metadata": {
    "pycharm": {
     "is_executing": false,
     "name": "#%%\n"
    }
   },
   "outputs": [],
   "source": [
    "expset.get_ids()"
   ]
  },
  {
   "cell_type": "code",
   "execution_count": 66,
   "metadata": {
    "pycharm": {
     "is_executing": false,
     "name": "#%%\n"
    }
   },
   "outputs": [],
   "source": [
    "loaded_data = expset.load_by_index(0, 'exp_sim_regular_')\n",
    "loaded_data"
   ]
  },
  {
   "cell_type": "code",
   "execution_count": 67,
   "metadata": {
    "pycharm": {
     "is_executing": false,
     "name": "#%%\n"
    }
   },
   "outputs": [],
   "source": [
    "experiment: FinishedExperiment = loaded_data[0]\n",
    "simulation: FinishedExperiment = loaded_data[1]\n",
    "experiment.backend_name"
   ]
  },
  {
   "cell_type": "code",
   "execution_count": 68,
   "metadata": {
    "pycharm": {
     "is_executing": false,
     "name": "#%%\n"
    }
   },
   "outputs": [],
   "source": [
    "w_1 = 0.5\n",
    "w_2 = 1 - w_1\n",
    "theta = np.asarray(experiment.theta)\n",
    "theory_classification = w_1 * np.sin(theta/2 + np.pi/4)**2 - w_2 * np.cos(theta/2 + np.pi/4)**2\n",
    "\n",
    "experiment.show_plot(compare_classification=theory_classification, classification_label='experiment', compare_classification_label='theory')\n",
    "simulation.show_plot(compare_classification=theory_classification, classification_label='simulation (noise)', compare_classification_label='theory')\n",
    "experiment.show_plot(compare_classification=simulation.get_classification(), classification_label='experiment', compare_classification_label='simulation')"
   ]
  },
  {
   "cell_type": "code",
   "execution_count": 69,
   "outputs": [],
   "source": [
    "from scipy.optimize import minimize\n",
    "\n",
    "def theory_expectation(w_1, w_2):\n",
    "    def inner(x):\n",
    "        return w_1 * np.sin(x/2 + np.pi/4)**2 - w_2 * np.cos(x/2 + np.pi/4)**2\n",
    "    return inner\n",
    "\n",
    "\n",
    "def mse(classification, theta):\n",
    "    classification = np.asarray(classification)\n",
    "    def inner(x):\n",
    "        a, vartheta, w_1 = x\n",
    "        reference = np.asarray([\n",
    "            a*theory_expectation(w_1=w_1, w_2=1 - w_1)(t - vartheta) for t in theta\n",
    "        ])\n",
    "        return np.sqrt(sum(np.power(classification - reference, 2)))\n",
    "    return inner\n",
    "\n",
    "fun = mse(experiment.get_classification(), theta)\n",
    "x_0 = [1.0, 0, 0]\n",
    "result = minimize(fun, x_0)\n",
    "\n",
    "from sympy import nsimplify\n",
    "\n",
    "[a, vartheta, w_1] = result.x\n",
    "\"amplitude dampening: {:.4}, shift: {} pi, approx. w_1: {:.4}\".format(\n",
    "    a, \n",
    "    nsimplify(vartheta/np.pi, tolerance=0.1), \n",
    "    w_1)"
   ],
   "metadata": {
    "collapsed": false,
    "pycharm": {
     "name": "#%%\n",
     "is_executing": false
    }
   }
  },
  {
   "cell_type": "code",
   "execution_count": 18,
   "metadata": {
    "pycharm": {
     "is_executing": false,
     "name": "#%%\n"
    }
   },
   "outputs": [],
   "source": [
    "lib.save(directory=\"../experiment_results\", experiment=experiment, simulation=simulation)"
   ]
  },
  {
   "cell_type": "code",
   "execution_count": 43,
   "metadata": {
    "pycharm": {
     "is_executing": false,
     "name": "#%%\n"
    }
   },
   "outputs": [],
   "source": [
    "#simulation.parameters['device_properties']\n"
   ]
  }
 ],
 "metadata": {
  "kernelspec": {
   "display_name": "Python 3",
   "language": "python",
   "name": "python3"
  },
  "language_info": {
   "codemirror_mode": {
    "name": "ipython",
    "version": 3
   },
   "file_extension": ".py",
   "mimetype": "text/x-python",
   "name": "python",
   "nbconvert_exporter": "python",
   "pygments_lexer": "ipython3",
   "version": "3.6.8"
  },
  "pycharm": {
   "stem_cell": {
    "cell_type": "raw",
    "source": [],
    "metadata": {
     "collapsed": false
    }
   }
  }
 },
 "nbformat": 4,
 "nbformat_minor": 4
}