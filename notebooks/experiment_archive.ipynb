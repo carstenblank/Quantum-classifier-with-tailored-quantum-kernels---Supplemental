{
 "cells": [
  {
   "cell_type": "markdown",
   "metadata": {
    "pycharm": {
     "is_executing": false,
     "name": "#%% md\n"
    }
   },
   "source": [
    "Copyright 2019 Carsten Blank\n",
    "\n",
    "Licensed under the Apache License, Version 2.0 (the \"License\");\n",
    "you may not use this file except in compliance with the License.\n",
    "You may obtain a copy of the License at\n",
    "\n",
    "    http://www.apache.org/licenses/LICENSE-2.0\n",
    "\n",
    "Unless required by applicable law or agreed to in writing, software\n",
    "distributed under the License is distributed on an \"AS IS\" BASIS,\n",
    "WITHOUT WARRANTIES OR CONDITIONS OF ANY KIND, either express or implied.\n",
    "See the License for the specific language governing permissions and\n",
    "limitations under the License."
   ]
  },
  {
   "cell_type": "code",
   "execution_count": null,
   "metadata": {
    "collapsed": false,
    "jupyter": {
     "outputs_hidden": false
    },
    "pycharm": {
     "name": "#%%\n"
    }
   },
   "outputs": [],
   "source": [
    "import datetime\n",
    "import pytz\n",
    "%load_ext autoreload"
   ]
  },
  {
   "cell_type": "code",
   "execution_count": 2,
   "metadata": {
    "collapsed": false,
    "jupyter": {
     "outputs_hidden": false
    },
    "pycharm": {
     "is_executing": false,
     "name": "#%%\n"
    }
   },
   "outputs": [],
   "source": [
    "%autoreload 2\n",
    "%aimport lib_experimental_utils"
   ]
  },
  {
   "cell_type": "code",
   "execution_count": 3,
   "metadata": {
    "collapsed": false,
    "jupyter": {
     "outputs_hidden": false
    },
    "pycharm": {
     "is_executing": false,
     "name": "#%%\n"
    }
   },
   "outputs": [],
   "source": [
    "# Uncomment if you have not set up the PYTHONPATH to point to the code!\n",
    "# import os\n",
    "# import sys\n",
    "# sys.path.append(\"{}/../lib_paper\".format(os.getcwd()))"
   ]
  },
  {
   "cell_type": "code",
   "execution_count": 4,
   "metadata": {
    "collapsed": false,
    "jupyter": {
     "outputs_hidden": false
    },
    "pycharm": {
     "is_executing": false,
     "name": "#%%\n"
    }
   },
   "outputs": [],
   "source": [
    "from typing import Optional\n",
    "\n",
    "import qiskit\n",
    "from qiskit.providers.aer.noise.device import basic_device_noise_model\n",
    "from qiskit.providers.models import BackendProperties\n",
    "import lib_experimental_utils as lib\n",
    "from lib_experimental_utils import FinishedExperiment, RunningExperiment, qasm_simulator, get_gate_times"
   ]
  },
  {
   "cell_type": "markdown",
   "metadata": {
    "pycharm": {
     "is_executing": false,
     "name": "#%% md\n"
    }
   },
   "source": [
    "## Interesting\n",
    "Good results:\n",
    "* 5c962f6581cbf700560b9504\n",
    "* 5c9755f199c2c6005f6bc532\n",
    "\n",
    "Withou any barriers (except measurement)\n",
    "* 5c975badf4e1bf0057a03d2b\n",
    "* 5c976069adfd43005f0fef6b (+ 0.2pi theta correction)"
   ]
  },
  {
   "cell_type": "code",
   "execution_count": 5,
   "metadata": {
    "collapsed": false,
    "jupyter": {
     "outputs_hidden": false
    },
    "pycharm": {
     "is_executing": false,
     "name": "#%%\n"
    }
   },
   "outputs": [],
   "source": [
    "experiment = FinishedExperiment.from_data(job_id='5c975badf4e1bf0057a03d2b', backend='ibmqx4')"
   ]
  },
  {
   "cell_type": "code",
   "execution_count": 6,
   "metadata": {
    "collapsed": false,
    "jupyter": {
     "outputs_hidden": false
    },
    "pycharm": {
     "is_executing": false,
     "name": "#%%\n"
    }
   },
   "outputs": [
    {
     "name": "stdout",
     "output_type": "stream",
     "text": [
      "OPENQASM 2.0;\n",
      "include \"qelib1.inc\";\n",
      "qreg q[5];\n",
      "creg c[2];\n",
      "u3(0.0,-pi/2,pi/2) q[3];\n",
      "u3(1.57079632679490,-1.57079632679490,3.14159265358979) q[2];\n",
      "u2(0,pi) q[1];\n",
      "cx q[2],q[0];\n",
      "cx q[1],q[0];\n",
      "u2(0,pi) q[1];\n",
      "u2(0,pi) q[0];\n",
      "cx q[3],q[2];\n",
      "u2(0,pi) q[2];\n",
      "cx q[3],q[2];\n",
      "u3(pi/4,pi/2,3*pi/2) q[3];\n",
      "cx q[3],q[4];\n",
      "u3(-pi/4,pi/2,3*pi/2) q[3];\n",
      "cx q[3],q[2];\n",
      "u3(pi/4,pi/2,3*pi/2) q[3];\n",
      "cx q[3],q[4];\n",
      "u3(-pi/4,pi/2,3*pi/2) q[3];\n",
      "u2(0,pi) q[4];\n",
      "u2(pi/4,pi) q[2];\n",
      "cx q[4],q[2];\n",
      "u1(pi/4) q[4];\n",
      "u1(-pi/4) q[2];\n",
      "cx q[4],q[2];\n",
      "cx q[3],q[2];\n",
      "u2(0,pi) q[4];\n",
      "barrier q[0],q[1],q[2],q[3],q[4];\n",
      "measure q[4] -> c[0];\n",
      "measure q[1] -> c[1];\n",
      "\n"
     ]
    },
    {
     "data": {
      "image/png": "[encoded data removed]",
      "text/plain": [
       "<Figure size 720x504 with 1 Axes>"
      ]
     },
     "metadata": {
      "needs_background": "light"
     },
     "output_type": "display_data"
    }
   ],
   "source": [
    "experiment.show_plot()\n",
    "print(experiment.qobj.experiments[0].header.compiled_circuit_qasm)"
   ]
  },
  {
   "cell_type": "code",
   "execution_count": 7,
   "metadata": {
    "collapsed": false,
    "jupyter": {
     "outputs_hidden": false
    },
    "pycharm": {
     "is_executing": false,
     "name": "#%%\n"
    }
   },
   "outputs": [],
   "source": [
    "backend = qiskit.IBMQ.get_backend(experiment.backend_name)\n",
    "device_properties = backend.properties()  # type: Optional[BackendProperties]\n",
    "gate_times = get_gate_times(backend)\n",
    "noise_model = basic_device_noise_model(device_properties, gate_times=gate_times, temperature=0) "
   ]
  },
  {
   "cell_type": "code",
   "execution_count": 8,
   "metadata": {
    "collapsed": false,
    "jupyter": {
     "outputs_hidden": false
    },
    "pycharm": {
     "is_executing": false,
     "name": "#%%\n"
    }
   },
   "outputs": [],
   "source": [
    "simulation = RunningExperiment(date=datetime.datetime.now().astimezone(tz=pytz.UTC), \n",
    "                               qobj=experiment.qobj, \n",
    "                               job=qasm_simulator.run(qobj=experiment.qobj, noise_model=noise_model),\n",
    "                               external_id='{}'.format(experiment.date),\n",
    "                               noise_model=noise_model)\n",
    "simulation = FinishedExperiment.from_running_experiment(simulation)\n",
    "simulation.parameters['device_properties'] = device_properties.to_dict()\n",
    "simulation.parameters['gate_times'] = gate_times"
   ]
  },
  {
   "cell_type": "code",
   "execution_count": 9,
   "metadata": {
    "collapsed": false,
    "jupyter": {
     "outputs_hidden": false
    },
    "pycharm": {
     "is_executing": false,
     "name": "#%%\n"
    }
   },
   "outputs": [
    {
     "data": {
      "image/png": "[encoded data removed]",
      "text/plain": [
       "<Figure size 720x504 with 1 Axes>"
      ]
     },
     "metadata": {
      "needs_background": "light"
     },
     "output_type": "display_data"
    }
   ],
   "source": [
    "experiment.show_plot(classification_label='experiment', compare_classification=simulation.get_classification(), compare_classification_label='simulation')"
   ]
  },
  {
   "cell_type": "code",
   "execution_count": 10,
   "metadata": {
    "collapsed": false,
    "jupyter": {
     "outputs_hidden": false
    },
    "pycharm": {
     "is_executing": false,
     "name": "#%%\n"
    }
   },
   "outputs": [],
   "source": [
    "lib.save(directory='../../experiment_results', experiment=experiment, simulation=simulation)\n"
   ]
  }
 ],
 "metadata": {
  "kernelspec": {
   "display_name": "Python 3",
   "language": "python",
   "name": "python3"
  },
  "language_info": {
   "codemirror_mode": {
    "name": "ipython",
    "version": 3
   },
   "file_extension": ".py",
   "mimetype": "text/x-python",
   "name": "python",
   "nbconvert_exporter": "python",
   "pygments_lexer": "ipython3",
   "version": "3.6.8"
  },
  "pycharm": {
   "stem_cell": {
    "cell_type": "raw",
    "metadata": {
     "collapsed": false
    },
    "source": []
   }
  }
 },
 "nbformat": 4,
 "nbformat_minor": 4
}
