{
 "cells": [
  {
   "cell_type": "markdown",
   "metadata": {},
   "source": [
    "Copyright 2019 Carsten Blank\n",
    "\n",
    "Licensed under the Apache License, Version 2.0 (the \"License\");\n",
    "you may not use this file except in compliance with the License.\n",
    "You may obtain a copy of the License at\n",
    "\n",
    "    http://www.apache.org/licenses/LICENSE-2.0\n",
    "\n",
    "Unless required by applicable law or agreed to in writing, software\n",
    "distributed under the License is distributed on an \"AS IS\" BASIS,\n",
    "WITHOUT WARRANTIES OR CONDITIONS OF ANY KIND, either express or implied.\n",
    "See the License for the specific language governing permissions and\n",
    "limitations under the License."
   ]
  },
  {
   "cell_type": "code",
   "execution_count": 1,
   "metadata": {
    "collapsed": false,
    "jupyter": {
     "outputs_hidden": false
    },
    "pycharm": {
     "is_executing": false,
     "name": "#%%\n"
    }
   },
   "outputs": [],
   "source": [
    "%load_ext autoreload\n",
    "%autoreload 2\n",
    "%aimport lib_experimental_utils"
   ]
  },
  {
   "cell_type": "code",
   "execution_count": 2,
   "metadata": {
    "collapsed": false,
    "jupyter": {
     "outputs_hidden": false
    },
    "pycharm": {
     "is_executing": false,
     "name": "#%%\n"
    }
   },
   "outputs": [],
   "source": [
    "# import sys\n",
    "# import os\n",
    "# sys.path.append(\"{}/../lib_paper\".format(os.getcwd()))\n",
    "from lib_experimental_utils import FinishedExperiment, save\n",
    "import lib_experiment_setups as expset"
   ]
  },
  {
   "cell_type": "code",
   "execution_count": 5,
   "metadata": {
    "collapsed": false,
    "jupyter": {
     "outputs_hidden": false
    },
    "pycharm": {
     "is_executing": false,
     "name": "#%%\n"
    }
   },
   "outputs": [
    {
     "data": {
      "text/plain": [
       "'sim_regular_20190703T105113Z'"
      ]
     },
     "execution_count": 5,
     "metadata": {},
     "output_type": "execute_result"
    }
   ],
   "source": [
    "id = expset.create_regular_simulation(instead_ibmqx4_use_ibmqx2=True, no_noise=False, readout_swap={ 1: 0, 4: 2})\n",
    "id"
   ]
  },
  {
   "cell_type": "code",
   "execution_count": 4,
   "metadata": {
    "collapsed": false,
    "jupyter": {
     "outputs_hidden": false
    },
    "pycharm": {
     "is_executing": false,
     "name": "#%%\n"
    }
   },
   "outputs": [
    {
     "data": {
      "text/plain": [
       "['sim_regular_20190703T104926Z',\n",
       " 'exp_sim_regular_20190703T102611Z',\n",
       " 'exp_sim_regular_20190703T102606Z',\n",
       " 'exp_sim_regular_20190703T100559Z',\n",
       " 'exp_sim_regular_20190703T100555Z',\n",
       " 'exp_sim_regular_20190703T091842Z',\n",
       " 'exp_sim_regular_20190703T091838Z',\n",
       " 'exp_sim_regular_20190703T090309Z',\n",
       " 'exp_sim_regular_20190703T090306Z',\n",
       " 'exp_sim_regular_20190703T083902Z',\n",
       " 'exp_sim_regular_20190703T083858Z',\n",
       " 'exp_sim_regular_20190703T080541Z',\n",
       " 'exp_sim_regular_20190703T080535Z',\n",
       " 'exp_sim_regular_20190702T135642Z',\n",
       " 'exp_sim_regular_20190702T135637Z']"
      ]
     },
     "execution_count": 4,
     "metadata": {},
     "output_type": "execute_result"
    }
   ],
   "source": [
    "expset.get_ids()"
   ]
  },
  {
   "cell_type": "code",
   "execution_count": 26,
   "metadata": {
    "collapsed": false,
    "jupyter": {
     "outputs_hidden": false
    },
    "pycharm": {
     "is_executing": false,
     "name": "#%%\n"
    }
   },
   "outputs": [
    {
     "data": {
      "text/plain": [
       "[<lib_experimental_utils.FinishedExperiment at 0x7f622c297518>]"
      ]
     },
     "execution_count": 26,
     "metadata": {},
     "output_type": "execute_result"
    }
   ],
   "source": [
    "loaded_data = expset.load_by_index(0, 'sim_regular')\n",
    "loaded_data"
   ]
  },
  {
   "cell_type": "code",
   "execution_count": 27,
   "metadata": {
    "collapsed": false,
    "jupyter": {
     "outputs_hidden": false
    },
    "pycharm": {
     "is_executing": false,
     "name": "#%%\n"
    }
   },
   "outputs": [
    {
     "data": {
      "image/png": "[encoded data removed]",
      "text/plain": [
       "<Figure size 720x504 with 1 Axes>"
      ]
     },
     "metadata": {
      "needs_background": "light"
     },
     "output_type": "display_data"
    }
   ],
   "source": [
    "import matplotlib.pyplot as plt\n",
    "simulation: FinishedExperiment = loaded_data[0]\n",
    "simulation.show_plot()\n",
    "# plt.ylim((-.5, .5))"
   ]
  },
  {
   "cell_type": "code",
   "execution_count": 20,
   "metadata": {
    "collapsed": false,
    "jupyter": {
     "outputs_hidden": false
    },
    "pycharm": {
     "is_executing": false,
     "name": "#%%\n"
    }
   },
   "outputs": [
    {
     "data": {
      "text/plain": [
       "NoiseModel:\n",
       "  Instructions with noise: ['cx', 'measure', 'u3', 'u2']\n",
       "  Specific qubit errors: [('u2', [0]), ('u2', [1]), ('u2', [2]), ('u2', [3]), ('u2', [4]), ('u3', [0]), ('u3', [1]), ('u3', [2]), ('u3', [3]), ('u3', [4]), ('cx', [1, 0]), ('cx', [2, 0]), ('cx', [2, 1]), ('cx', [3, 2]), ('cx', [3, 4]), ('cx', [4, 2]), ('measure', [0]), ('measure', [1]), ('measure', [2]), ('measure', [3]), ('measure', [4])]"
      ]
     },
     "execution_count": 20,
     "metadata": {},
     "output_type": "execute_result"
    }
   ],
   "source": [
    "simulation.noise_model"
   ]
  },
  {
   "cell_type": "code",
   "execution_count": 12,
   "metadata": {
    "collapsed": false,
    "jupyter": {
     "outputs_hidden": false
    },
    "pycharm": {
     "is_executing": false,
     "name": "#%%\n"
    }
   },
   "outputs": [],
   "source": [
    "save('../../experiment_results', simulation=simulation)"
   ]
  },
  {
   "cell_type": "code",
   "execution_count": 23,
   "metadata": {
    "collapsed": false,
    "jupyter": {
     "outputs_hidden": false
    },
    "pycharm": {
     "is_executing": false,
     "name": "#%%\n"
    }
   },
   "outputs": [
    {
     "data": {
      "text/html": [
       "<pre style=\"word-wrap: normal;white-space: pre;line-height: 15px;\">        ┌──────────────┐ ░                  ░                 ░               »\n",
       "q_0: |0>┤ U2(0,3.1416) ├─░──────────────────░─────────────────░───────────────»\n",
       "        └──────────────┘ ░                  ░                 ░               »\n",
       "q_1: |0>─────────────────░──────────────────░─────────────────░───────────────»\n",
       "                         ░ ┌──────────────┐ ░ ┌─────────────┐ ░ ┌────────────┐»\n",
       "q_2: |0>─────────────────░─┤ U2(0,3.1416) ├─░─┤ U1(-3.1416) ├─░─┤ U1(1.5708) ├»\n",
       "                         ░ └──────────────┘ ░ └─────────────┘ ░ └────────────┘»\n",
       "q_3: |0>─────────────────░──────────────────░─────────────────░───────────────»\n",
       "                         ░                  ░                 ░               »\n",
       "q_4: |0>─────────────────░──────────────────░─────────────────░───────────────»\n",
       "                         ░                  ░                 ░               »\n",
       " c_0: 0 ══════════════════════════════════════════════════════════════════════»\n",
       "                                                                              »\n",
       " c_1: 0 ══════════════════════════════════════════════════════════════════════»\n",
       "                                                                              »\n",
       "«      ░ ┌──────────────┐┌───┐┌──────────────┐ ░ ┌──────────────┐»\n",
       "«q_0: ─░─┤ U2(0,3.1416) ├┤ X ├┤ U2(0,3.1416) ├─░─┤ U2(0,3.1416) ├»\n",
       "«      ░ └──────────────┘└─┬─┘└──────────────┘ ░ └──────────────┘»\n",
       "«q_1: ─░───────────────────┼───────────────────░─────────────────»\n",
       "«      ░                   │                   ░                 »\n",
       "«q_2: ─░───────────────────■───────────────────░─────────────────»\n",
       "«      ░                                       ░                 »\n",
       "«q_3: ─░───────────────────────────────────────░─────────────────»\n",
       "«      ░                                       ░                 »\n",
       "«q_4: ─░───────────────────────────────────────░─────────────────»\n",
       "«      ░                                       ░                 »\n",
       "«c_0: ═══════════════════════════════════════════════════════════»\n",
       "«                                                                »\n",
       "«c_1: ═══════════════════════════════════════════════════════════»\n",
       "«                                                                »\n",
       "«                     ┌───┐                ┌──────────────┐ ░                 »\n",
       "«q_0: ────────────────┤ X ├────────────────┤ U2(0,3.1416) ├─░─────────────────»\n",
       "«     ┌──────────────┐└─┬─┘┌──────────────┐└──────────────┘ ░                 »\n",
       "«q_1: ┤ U2(0,3.1416) ├──■──┤ U2(0,3.1416) ├─────────────────░─────────────────»\n",
       "«     └──────────────┘     └──────────────┘                 ░                 »\n",
       "«q_2: ──────────────────────────────────────────────────────░─────────────────»\n",
       "«                                                           ░                 »\n",
       "«q_3: ──────────────────────────────────────────────────────░─────────────────»\n",
       "«                                                           ░ ┌──────────────┐»\n",
       "«q_4: ──────────────────────────────────────────────────────░─┤ U2(0,3.1416) ├»\n",
       "«                                                           ░ └──────────────┘»\n",
       "«c_0: ════════════════════════════════════════════════════════════════════════»\n",
       "«                                                                             »\n",
       "«c_1: ════════════════════════════════════════════════════════════════════════»\n",
       "«                                                                             »\n",
       "«      ░                            ░                                      »\n",
       "«q_0: ─░────────────────────────────░──────────────────────────────────────»\n",
       "«      ░                            ░                                      »\n",
       "«q_1: ─░────────────────────────────░──────────────────────────────────────»\n",
       "«      ░                            ░                 ┌───┐┌──────────────┐»\n",
       "«q_2: ─░────────────────────────────░─────────────────┤ X ├┤ U2(0,3.1416) ├»\n",
       "«      ░ ┌────────────────────────┐ ░                 └─┬─┘└──────────────┘»\n",
       "«q_3: ─░─┤ U3(0.8,-1.5708,1.5708) ├─░───────────────────■──────────────────»\n",
       "«      ░ └────────────────────────┘ ░ ┌──────────────┐                     »\n",
       "«q_4: ─░────────────────────────────░─┤ U2(0,3.1416) ├─────────────────────»\n",
       "«      ░                            ░ └──────────────┘                     »\n",
       "«c_0: ═════════════════════════════════════════════════════════════════════»\n",
       "«                                                                          »\n",
       "«c_1: ═════════════════════════════════════════════════════════════════════»\n",
       "«                                                                          »\n",
       "«                                                                             »\n",
       "«q_0: ────────────────────────────────────────────────────────────────────────»\n",
       "«                                                                             »\n",
       "«q_1: ────────────────────────────────────────────────────────────────────────»\n",
       "«     ┌───┐                                                              ┌───┐»\n",
       "«q_2: ┤ X ├──────────────────────────────────────────────────────────────┤ X ├»\n",
       "«     └─┬─┘┌──────────────────────────┐     ┌───────────────────────────┐└─┬─┘»\n",
       "«q_3: ──■──┤ U3(0.7854,1.5708,4.7124) ├──■──┤ U3(-0.7854,1.5708,4.7124) ├──■──»\n",
       "«          └──────────────────────────┘┌─┴─┐└───────────────────────────┘     »\n",
       "«q_4: ─────────────────────────────────┤ X ├──────────────────────────────────»\n",
       "«                                      └───┘                                  »\n",
       "«c_0: ════════════════════════════════════════════════════════════════════════»\n",
       "«                                                                             »\n",
       "«c_1: ════════════════════════════════════════════════════════════════════════»\n",
       "«                                                                             »\n",
       "«                                                                   »\n",
       "«q_0: ──────────────────────────────────────────────────────────────»\n",
       "«                                                                   »\n",
       "«q_1: ──────────────────────────────────────────────────────────────»\n",
       "«                                                                   »\n",
       "«q_2: ──────────────────────────────────────────────────────────────»\n",
       "«     ┌──────────────────────────┐     ┌───────────────────────────┐»\n",
       "«q_3: ┤ U3(0.7854,1.5708,4.7124) ├──■──┤ U3(-0.7854,1.5708,4.7124) ├»\n",
       "«     └──────────────────────────┘┌─┴─┐└───────────────────────────┘»\n",
       "«q_4: ────────────────────────────┤ X ├─────────────────────────────»\n",
       "«                                 └───┘                             »\n",
       "«c_0: ══════════════════════════════════════════════════════════════»\n",
       "«                                                                   »\n",
       "«c_1: ══════════════════════════════════════════════════════════════»\n",
       "«                                                                   »\n",
       "«                                                                            »\n",
       "«q_0: ───────────────────────────────────────────────────────────────────────»\n",
       "«                                                                            »\n",
       "«q_1: ───────────────────────────────────────────────────────────────────────»\n",
       "«                     ┌───────────────────┐┌───┐              ┌─────────────┐»\n",
       "«q_2: ────────────────┤ U2(0.7854,3.1416) ├┤ X ├──────────────┤ U1(-0.7854) ├»\n",
       "«                     └───────────────────┘└─┬─┘              └─────────────┘»\n",
       "«q_3: ───────────────────────────────────────┼───────────────────────────────»\n",
       "«     ┌──────────────┐                       │  ┌────────────┐               »\n",
       "«q_4: ┤ U2(0,3.1416) ├───────────────────────■──┤ U1(0.7854) ├───────────────»\n",
       "«     └──────────────┘                          └────────────┘               »\n",
       "«c_0: ═══════════════════════════════════════════════════════════════════════»\n",
       "«                                                                            »\n",
       "«c_1: ═══════════════════════════════════════════════════════════════════════»\n",
       "«                                                                            »\n",
       "«                ░                  ░  ░ ┌───┐┌──────────────┐                »\n",
       "«q_0: ───────────░──────────────────░──░─┤ X ├┤ U2(0,3.1416) ├────────────────»\n",
       "«                ░                  ░  ░ └─┬─┘└──────────────┘┌──────────────┐»\n",
       "«q_1: ───────────░──────────────────░──░───■──────────────────┤ U2(0,3.1416) ├»\n",
       "«     ┌───┐┌───┐ ░                  ░  ░                      └──────────────┘»\n",
       "«q_2: ┤ X ├┤ X ├─░──────────────────░──░──────────────────────────────────────»\n",
       "«     └─┬─┘└─┬─┘ ░                  ░  ░                                      »\n",
       "«q_3: ──┼────■───░──────────────────░──░──────────────────────────────────────»\n",
       "«       │        ░ ┌──────────────┐ ░  ░                                      »\n",
       "«q_4: ──■────────░─┤ U2(0,3.1416) ├─░──░──────────────────────────────────────»\n",
       "«                ░ └──────────────┘ ░  ░                                      »\n",
       "«c_0: ════════════════════════════════════════════════════════════════════════»\n",
       "«                                                                             »\n",
       "«c_1: ════════════════════════════════════════════════════════════════════════»\n",
       "«                                                                             »\n",
       "«     ┌───┐                ┌──────────────┐┌───┐                     »\n",
       "«q_0: ┤ X ├────────────────┤ U2(0,3.1416) ├┤ X ├─────────────────────»\n",
       "«     └─┬─┘┌──────────────┐└──────────────┘└─┬─┘                     »\n",
       "«q_1: ──■──┤ U2(0,3.1416) ├──────────────────■───────────────────────»\n",
       "«          └──────────────┘                     ┌───┐┌──────────────┐»\n",
       "«q_2: ──────────────────────────────────────────┤ X ├┤ U2(0,3.1416) ├»\n",
       "«                                               └─┬─┘└──────────────┘»\n",
       "«q_3: ────────────────────────────────────────────┼──────────────────»\n",
       "«                                                 │                  »\n",
       "«q_4: ────────────────────────────────────────────■──────────────────»\n",
       "«                                                                    »\n",
       "«c_0: ═══════════════════════════════════════════════════════════════»\n",
       "«                                                                    »\n",
       "«c_1: ═══════════════════════════════════════════════════════════════»\n",
       "«                                                                    »\n",
       "«                                                                ░    ┌─┐\n",
       "«q_0: ───────────────────────────────────────────────────────────░────┤M├\n",
       "«                                                                ░    └╥┘\n",
       "«q_1: ───────────────────────────────────────────────────────────░─────╫─\n",
       "«                     ┌───┐                ┌──────────────┐┌───┐ ░ ┌─┐ ║ \n",
       "«q_2: ────────────────┤ X ├────────────────┤ U2(0,3.1416) ├┤ X ├─░─┤M├─╫─\n",
       "«                     └─┬─┘                └──────────────┘└─┬─┘ ░ └╥┘ ║ \n",
       "«q_3: ──────────────────┼────────────────────────────────────┼───░──╫──╫─\n",
       "«     ┌──────────────┐  │  ┌──────────────┐                  │   ░  ║  ║ \n",
       "«q_4: ┤ U2(0,3.1416) ├──■──┤ U2(0,3.1416) ├──────────────────■───░──╫──╫─\n",
       "«     └──────────────┘     └──────────────┘                      ░  ║  ║ \n",
       "«c_0: ══════════════════════════════════════════════════════════════╩══╬═\n",
       "«                                                                      ║ \n",
       "«c_1: ═════════════════════════════════════════════════════════════════╩═\n",
       "«                                                                        </pre>"
      ],
      "text/plain": [
       "<qiskit.tools.visualization._text.TextDrawing at 0x7f622d68fd30>"
      ]
     },
     "execution_count": 23,
     "metadata": {},
     "output_type": "execute_result"
    }
   ],
   "source": [
    "import qiskit.converters\n",
    "qiskit.converters.qobj_to_circuits(simulation.qobj)[8].draw()"
   ]
  }
 ],
 "metadata": {
  "kernelspec": {
   "display_name": "Python 3",
   "language": "python",
   "name": "python3"
  },
  "language_info": {
   "codemirror_mode": {
    "name": "ipython",
    "version": 3
   },
   "file_extension": ".py",
   "mimetype": "text/x-python",
   "name": "python",
   "nbconvert_exporter": "python",
   "pygments_lexer": "ipython3",
   "version": "3.6.8"
  },
  "pycharm": {
   "stem_cell": {
    "cell_type": "raw",
    "metadata": {
     "collapsed": false
    },
    "source": []
   }
  }
 },
 "nbformat": 4,
 "nbformat_minor": 4
}
