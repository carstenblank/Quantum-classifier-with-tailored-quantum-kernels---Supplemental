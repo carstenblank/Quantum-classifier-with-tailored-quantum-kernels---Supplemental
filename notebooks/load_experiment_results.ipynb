{
 "cells": [
  {
   "cell_type": "markdown",
   "metadata": {},
   "source": [
    "Copyright 2019 Carsten Blank\n",
    "\n",
    "Licensed under the Apache License, Version 2.0 (the \"License\");\n",
    "you may not use this file except in compliance with the License.\n",
    "You may obtain a copy of the License at\n",
    "\n",
    "    http://www.apache.org/licenses/LICENSE-2.0\n",
    "\n",
    "Unless required by applicable law or agreed to in writing, software\n",
    "distributed under the License is distributed on an \"AS IS\" BASIS,\n",
    "WITHOUT WARRANTIES OR CONDITIONS OF ANY KIND, either express or implied.\n",
    "See the License for the specific language governing permissions and\n",
    "limitations under the License."
   ]
  },
  {
   "cell_type": "code",
   "execution_count": 1,
   "metadata": {
    "collapsed": false,
    "jupyter": {
     "outputs_hidden": false
    },
    "pycharm": {
     "is_executing": false,
     "name": "#%%\n"
    }
   },
   "outputs": [],
   "source": [
    "from qiskit import QuantumCircuit\n",
    "%load_ext autoreload"
   ]
  },
  {
   "cell_type": "code",
   "execution_count": 2,
   "metadata": {
    "collapsed": false,
    "jupyter": {
     "outputs_hidden": false
    },
    "pycharm": {
     "is_executing": false,
     "name": "#%%\n"
    }
   },
   "outputs": [],
   "source": [
    "# Uncomment if you have not set up the PYTHONPATH to point to the code!\n",
    "# import sys\n",
    "# import os \n",
    "# sys.path.append(\"{}/../lib_paper\".format(os.getcwd()))\n",
    "# sys.path.append(\"{}/../../experiment_results\".format(os.getcwd()))"
   ]
  },
  {
   "cell_type": "code",
   "execution_count": 124,
   "metadata": {
    "collapsed": false,
    "jupyter": {
     "outputs_hidden": false
    },
    "pycharm": {
     "is_executing": false,
     "name": "#%%\n"
    }
   },
   "outputs": [],
   "source": [
    "import matplotlib.pyplot as plt\n",
    "import numpy as np\n",
    "from lib_experimental_utils import FinishedExperiment, plot2"
   ]
  },
  {
   "cell_type": "code",
   "execution_count": 4,
   "metadata": {
    "collapsed": false,
    "jupyter": {
     "outputs_hidden": false
    },
    "pycharm": {
     "is_executing": false,
     "name": "#%%\n"
    }
   },
   "outputs": [],
   "source": [
    "%autoreload 2\n",
    "%aimport lib_experimental_utils"
   ]
  },
  {
   "cell_type": "markdown",
   "metadata": {
    "pycharm": {
     "is_executing": false,
     "name": "#%% md\n"
    }
   },
   "source": [
    "## Used int he paper:\n",
    "\n",
    "`exp_sim_regular_noise_job_20190324T102757Z_archive`\n",
    "* 2019-03-24 10:27:57.008000+00:00 UTC\n",
    "* ibmqx4\n",
    "* amplitude dampening: 0.1787, shift: 1/5 pi, approx. w_1: 0.5402, accuracy: 0.8254\n",
    "* amplitude dampening: 0.1764, shift: -1/177 pi, approx. w_1: 0.4914, accuracy: 1.0\n",
    "\n",
    "`exp_sim_regular_20190626T152158Z`\n",
    "* 2019-06-26 15:22:19.253505 UTC\n",
    "* ibmqx4\n",
    "* amplitude dampening: 0.0428, shift: 2/41 pi, approx. w_1: 1.543, accuracy: 0.5079\n",
    "* amplitude dampening: 0.1659, shift: -2/287 pi, approx. w_1: 0.4982, accuracy: 0.9524\n",
    "\n",
    "`exp_sim_regular_20190626T152154Z`\n",
    "* 2019-06-26 15:22:15.052862 UTC\n",
    "* ibmqx2\n",
    "* amplitude dampening: 0.01475, shift: 1/4 pi, approx. w_1: 0.579, accuracy: 0.6349\n",
    "* amplitude dampening: 0.1043, shift: 3/455 pi, approx. w_1: 0.4941, accuracy: 0.9206\n",
    "\n",
    "`exp_sim_regular_20190929T193610Z` **(BEST)**\n",
    "* 2019-09-29 19:36:19.920191 UTC\n",
    "* ibmqx2\n",
    "* amplitude dampening: 0.4867, shift: 1/173 pi, approx. w_1: 0.468, accuracy: 0.9841\n",
    "* amplitude dampening: 0.8115, shift: -1/575 pi, approx. w_1: 0.5006, accuracy: 0.9841\n",
    "\n",
    "`exp_sim_regular_20190929T191722Z`\n",
    "* 2019-09-29 19:17:34.544799 UTC\n",
    "* ibmq_vigo\n",
    "* amplitude dampening: 0.4611, shift: 4/81 pi, approx. w_1: 0.4966, accuracy: 0.9524\n",
    "* amplitude dampening: 0.6854, shift: 4/22801 pi, approx. w_1: 0.5075, accuracy: 0.9841\n",
    "\n",
    "`exp_sim_regular_20190929T114806Z` **(BEST)**\n",
    "* 2019-09-29 11:48:14.624299 UTC\n",
    "* ibmq_ourense\n",
    "* amplitude dampening: 0.6515, shift: 2/51 pi, approx. w_1: 0.5414, accuracy: 0.9683\n",
    "* amplitude dampening: 0.8213, shift: -9/104329 pi, approx. w_1: 0.5053, accuracy: 0.9683\n",
    "\n",
    "`exp_sim_regular_20191209T083223Z`\n",
    "* 2019-12-09 08:32:51.226097 UTC\n",
    "* ibmqx2\n",
    "* amplitude dampening: 0.5314, shift: 3/118 pi, approx. w_1: 0.4888, accuracy: 0.9524\n",
    "* amplitude dampening: 0.7729, shift: 1/551 pi, approx. w_1: 0.4839, accuracy: 1.0\n",
    "\n",
    "`exp_sim_regular_20191209T083338Z`\n",
    "* 2019-12-09 08:33:45.153361 UTC\n",
    "* ibmq_ourense\n",
    "* amplitude dampening: 0.5022, shift: 1/185 pi, approx. w_1: 0.5588, accuracy: 0.9365\n",
    "* amplitude dampening: 0.7724, shift: 9/21025 pi, approx. w_1: 0.5095, accuracy: 0.9841\n",
    "\n",
    "\n",
    "### Older and not used experiments\n",
    "\n",
    "Use this for regular:\n",
    "* exp_sim_regular_20190626T152158Z\n",
    "* exp_sim_regular_20190626T152154Z (ibmqx2)\n",
    "\n",
    "Recent:\n",
    "* exp_sim_regular_20190622T111845Z (ibmqx2)\n",
    "* exp_sim_regular_20190622T111850Z\n",
    "* exp_sim_regular_20190622T144425Z (ibmqx2)\n",
    "* exp_sim_regular_20190622T144428Z\n",
    "## Hadamard\n",
    "* exp_sim_hadamard_20190326T211320Z_archive\n",
    "* exp_sim_hadamard_20190622T203506Z (ibmqx2)\n",
    "* exp_sim_hadamard_20190622T203511Z"
   ]
  },
  {
   "cell_type": "code",
   "execution_count": 224,
   "metadata": {
    "collapsed": false,
    "jupyter": {
     "outputs_hidden": false
    },
    "pycharm": {
     "is_executing": false,
     "name": "#%%\n"
    }
   },
   "outputs": [],
   "source": [
    "# import exp_sim_regular_noise_job_20190324T102757Z_archive as loaded\n",
    "# import exp_sim_regular_20190626T152158Z as loaded\n",
    "# import exp_sim_regular_20190626T152154Z as loaded\n",
    "\n",
    "import exp_sim_regular_20190929T114806Z as loaded\n",
    "# import exp_sim_regular_20190929T191722Z as loaded\n",
    "# import exp_sim_regular_20190929T193610Z as loaded\n",
    "\n",
    "# import exp_sim_regular_20191209T083223Z as loaded\n",
    "# import exp_sim_regular_20191209T083338Z as loaded\n",
    "\n",
    "experiment = FinishedExperiment.from_dict(loaded.result['experiment'])\n",
    "simulation = FinishedExperiment.from_dict(loaded.result['simulation'])\n",
    "print(\"`{}`\\n* {} UTC\\n* {}\\n* {}\\n* {}\".format(\n",
    "    loaded.__name__,\n",
    "    experiment.date,\n",
    "    experiment.backend_name, \n",
    "    experiment.analyze(), \n",
    "    simulation.analyze()))"
   ]
  },
  {
   "cell_type": "code",
   "execution_count": 225,
   "metadata": {
    "collapsed": false,
    "jupyter": {
     "outputs_hidden": false
    },
    "pycharm": {
     "is_executing": false,
     "name": "#%%\n"
    }
   },
   "outputs": [],
   "source": [
    "w_1 = 0.5\n",
    "w_2 = 1 - w_1\n",
    "plot2(experiment, simulation, w_1, w_2, 1.0)\n",
    "\n",
    "# Uncomment to save\n",
    "# plt.savefig(\"../images/{}_all_together.png\".format(loaded.__name__), bbox_inches='tight')\n",
    "# plt.savefig(\"../images/{}_all_together.pdf\".format(loaded.__name__), bbox_inches='tight')"
   ]
  },
  {
   "cell_type": "code",
   "execution_count": 226,
   "outputs": [],
   "source": [
    "import qiskit.assembler\n",
    "qcs, _, _ = qiskit.assembler.disassemble(experiment.qobj)\n",
    "qc = qcs[8]  # type: QuantumCircuit\n",
    "qc.draw(output='mpl', with_layout=True, fold=100, filename=\"../images/{}_experiment_circuit.pdf\".format(loaded.__name__))\n",
    "# qc.draw(output='latex', fold=100)"
   ],
   "metadata": {
    "collapsed": false,
    "pycharm": {
     "name": "#%%\n",
     "is_executing": false
    }
   }
  },
  {
   "cell_type": "code",
   "execution_count": 227,
   "metadata": {
    "collapsed": false,
    "jupyter": {
     "outputs_hidden": false
    },
    "pycharm": {
     "is_executing": false,
     "name": "#%%\n"
    }
   },
   "outputs": [],
   "source": [
    "simulation.parameters.get('device_properties')[0]['backend_name'], \\\n",
    "simulation.parameters.get('device_properties')[0]['qubits'][0][0]['date']"
   ]
  },
  {
   "cell_type": "code",
   "execution_count": 228,
   "outputs": [],
   "source": [
    "int = 0\n",
    "for qubit in simulation.parameters.get('device_properties')[0]['qubits']:\n",
    "    print(\"Q_{}\\t&\".format(int), end='\\t')\n",
    "    for measurement in qubit:\n",
    "        print(\"{1:1.4f} {2}\".format(measurement['name'], float(measurement['value']), measurement['unit']), end='\\t&\\t')\n",
    "    print()\n",
    "    int = int + 1\n",
    "    "
   ],
   "metadata": {
    "collapsed": false,
    "pycharm": {
     "name": "#%%\n",
     "is_executing": false
    }
   }
  },
  {
   "cell_type": "code",
   "execution_count": 229,
   "outputs": [],
   "source": [
    "for gate in simulation.parameters.get('device_properties')[0]['gates']:\n",
    "    if gate['gate'] == 'u2':\n",
    "        print(gate['name'], end='\\t')\n",
    "        for p in gate['parameters']:\n",
    "            print(\"{1:1.6f} {2}\".format(p['name'], float(p['value']), p['unit']), end='\\t&\\t')\n",
    "        print()"
   ],
   "metadata": {
    "collapsed": false,
    "pycharm": {
     "name": "#%%\n",
     "is_executing": false
    }
   }
  },
  {
   "cell_type": "code",
   "execution_count": 230,
   "outputs": [],
   "source": [
    "for gate in simulation.parameters.get('device_properties')[0]['gates']:\n",
    "    if gate['gate'] == 'cx':\n",
    "        print(\"{}_{{{}{}}}\".format(gate['gate'], gate['qubits'][0], gate['qubits'][1]), end='\\t&\\t')\n",
    "        for p in gate['parameters']:\n",
    "            print(\"{1:1.6f} {2}\".format(p['name'], float(p['value']), p['unit']), end='\\t&\\t')\n",
    "        print()\n"
   ],
   "metadata": {
    "collapsed": false,
    "pycharm": {
     "name": "#%%\n",
     "is_executing": false
    }
   }
  },
  {
   "cell_type": "code",
   "execution_count": 51,
   "outputs": [],
   "source": [
    "loaded.result['experiment']['qobj']"
   ],
   "metadata": {
    "collapsed": false,
    "pycharm": {
     "name": "#%%\n",
     "is_executing": false
    }
   }
  }
 ],
 "metadata": {
  "kernelspec": {
   "display_name": "Python 3",
   "language": "python",
   "name": "python3"
  },
  "language_info": {
   "codemirror_mode": {
    "name": "ipython",
    "version": 3
   },
   "file_extension": ".py",
   "mimetype": "text/x-python",
   "name": "python",
   "nbconvert_exporter": "python",
   "pygments_lexer": "ipython3",
   "version": "3.6.8"
  },
  "pycharm": {
   "stem_cell": {
    "cell_type": "raw",
    "source": [],
    "metadata": {
     "collapsed": false
    }
   }
  }
 },
 "nbformat": 4,
 "nbformat_minor": 4
}